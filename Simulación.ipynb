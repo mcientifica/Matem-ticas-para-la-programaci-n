{
 "cells": [
  {
   "cell_type": "markdown",
   "id": "d639d7ae-25fa-42e9-8f43-8e33d061f98d",
   "metadata": {},
   "source": [
    "## Ejercicio Simulación"
   ]
  },
  {
   "cell_type": "code",
   "execution_count": 1,
   "id": "fe4f3f1a-17ec-496e-b48a-ad868bf5c586",
   "metadata": {},
   "outputs": [],
   "source": [
    "from numpy import random\n",
    "import numpy as np"
   ]
  },
  {
   "cell_type": "markdown",
   "id": "c2de1669-7e89-4b0e-9526-cb5cd800e4ea",
   "metadata": {},
   "source": [
    "### Ejercicio 1\n",
    "\n",
    "Simular el tiro de una moneda 100 veces (0 si es cara y 1 si es cruz). Calcular que porcentaje de las veces obtiene cara"
   ]
  },
  {
   "cell_type": "code",
   "execution_count": 14,
   "id": "71d3e079-c5af-4c04-b419-0c01823e4103",
   "metadata": {},
   "outputs": [
    {
     "data": {
      "text/plain": [
       "array([0])"
      ]
     },
     "execution_count": 14,
     "metadata": {},
     "output_type": "execute_result"
    }
   ],
   "source": [
    "moneda = np.random.randint(0,2,1) # cara = 1\n",
    "moneda"
   ]
  },
  {
   "cell_type": "code",
   "execution_count": 21,
   "id": "2badbd64-dd48-4730-9fb2-8a60d2e94841",
   "metadata": {},
   "outputs": [
    {
     "data": {
      "text/plain": [
       "0.49635"
      ]
     },
     "execution_count": 21,
     "metadata": {},
     "output_type": "execute_result"
    }
   ],
   "source": [
    "exitos = 0\n",
    "for i in range(100000):\n",
    "    moneda = np.random.randint(0,2,1)\n",
    "    if moneda == 1:\n",
    "        exitos += 1\n",
    "\n",
    "exitos/100000"
   ]
  },
  {
   "cell_type": "code",
   "execution_count": 9,
   "id": "13ab2840-1ea8-4c00-bcf7-86ea9d4bb982",
   "metadata": {},
   "outputs": [
    {
     "name": "stdout",
     "output_type": "stream",
     "text": [
      "['BitGenerator', 'Generator', 'MT19937', 'PCG64', 'PCG64DXSM', 'Philox', 'RandomState', 'SFC64', 'SeedSequence', '__RandomState_ctor', '__all__', '__builtins__', '__cached__', '__doc__', '__file__', '__loader__', '__name__', '__package__', '__path__', '__spec__', '_bounded_integers', '_common', '_generator', '_mt19937', '_pcg64', '_philox', '_pickle', '_sfc64', 'beta', 'binomial', 'bit_generator', 'bytes', 'chisquare', 'choice', 'default_rng', 'dirichlet', 'exponential', 'f', 'gamma', 'geometric', 'get_bit_generator', 'get_state', 'gumbel', 'hypergeometric', 'laplace', 'logistic', 'lognormal', 'logseries', 'mtrand', 'multinomial', 'multivariate_normal', 'negative_binomial', 'noncentral_chisquare', 'noncentral_f', 'normal', 'pareto', 'permutation', 'poisson', 'power', 'rand', 'randint', 'randn', 'random', 'random_integers', 'random_sample', 'ranf', 'rayleigh', 'sample', 'seed', 'set_bit_generator', 'set_state', 'shuffle', 'standard_cauchy', 'standard_exponential', 'standard_gamma', 'standard_normal', 'standard_t', 'test', 'triangular', 'uniform', 'vonmises', 'wald', 'weibull', 'zipf']\n"
     ]
    }
   ],
   "source": [
    "print(dir(np.random))"
   ]
  },
  {
   "cell_type": "markdown",
   "id": "13284f29-e967-42c3-ac9e-5408c1bd75df",
   "metadata": {},
   "source": [
    "### Ejercicio 2\n",
    "\n",
    "Se quiere calcular la probabilidad de obtener cara 3 veces seguidas. Crear una simulación para calcularla en la que se juegue 100 veces a esto, es decir, que se arrojen 100 veces 3 monedas."
   ]
  },
  {
   "cell_type": "code",
   "execution_count": 28,
   "id": "d1ddc853-079f-40a2-89ed-515879b1ded4",
   "metadata": {},
   "outputs": [
    {
     "data": {
      "text/plain": [
       "1"
      ]
     },
     "execution_count": 28,
     "metadata": {},
     "output_type": "execute_result"
    }
   ],
   "source": [
    "moneda = np.random.randint(0,2,size = 3) # cara = 1\n",
    "moneda"
   ]
  },
  {
   "cell_type": "code",
   "execution_count": 36,
   "id": "377bd175-634c-4a1f-a169-b82d9c376fc2",
   "metadata": {},
   "outputs": [
    {
     "data": {
      "text/plain": [
       "False"
      ]
     },
     "execution_count": 36,
     "metadata": {},
     "output_type": "execute_result"
    }
   ],
   "source": [
    "all(moneda == 1)"
   ]
  },
  {
   "cell_type": "code",
   "execution_count": 32,
   "id": "9ee2b6a7-dcb2-4c56-8634-1aa93c58d4b5",
   "metadata": {},
   "outputs": [
    {
     "data": {
      "text/plain": [
       "0.1257"
      ]
     },
     "execution_count": 32,
     "metadata": {},
     "output_type": "execute_result"
    }
   ],
   "source": [
    "exitos = 0\n",
    "tiradas = 100000\n",
    "for i in range(tiradas):\n",
    "    moneda = np.random.randint(0,2,size = 3) # cara = 1\n",
    "    if moneda.sum() == 3:\n",
    "        exitos += 1\n",
    "\n",
    "exitos/tiradas"
   ]
  },
  {
   "cell_type": "code",
   "execution_count": 33,
   "id": "1d5a4c21-3ac9-43b3-b1b1-5ea0752e43ea",
   "metadata": {},
   "outputs": [
    {
     "data": {
      "text/plain": [
       "0.125"
      ]
     },
     "execution_count": 33,
     "metadata": {},
     "output_type": "execute_result"
    }
   ],
   "source": [
    "1/2 * 1/2 * 1/2"
   ]
  },
  {
   "cell_type": "code",
   "execution_count": null,
   "id": "7d0c5946-c0f1-48b8-9e77-965a75b3a60c",
   "metadata": {},
   "outputs": [],
   "source": []
  },
  {
   "cell_type": "markdown",
   "id": "effb155e-b1c3-4383-b85c-049395b02b4f",
   "metadata": {},
   "source": [
    "### Ejercicio 3\n",
    "\n",
    "Se quiere calcular la probabilidad de ganar jugando a la ruleta apostando al color rojo. Tener en cuenta que existen 18 números rojos, 18 números negros y el 0 que no tiene color. Calcular esta probabilidad simulando 1000 rondas."
   ]
  },
  {
   "cell_type": "code",
   "execution_count": null,
   "id": "e79b73af-1e2f-4cf8-97a3-cbd4a1767960",
   "metadata": {},
   "outputs": [],
   "source": [
    "2,4,6,8,10\n",
    "1,3,5,7,9\n"
   ]
  },
  {
   "cell_type": "code",
   "execution_count": null,
   "id": "7d52d075-20d7-474b-9c72-c6fece0bb85f",
   "metadata": {},
   "outputs": [],
   "source": [
    "1:18, 19:36, 0"
   ]
  },
  {
   "cell_type": "code",
   "execution_count": 66,
   "id": "9143403c-0a4a-44c3-8f95-3cd0b112c29e",
   "metadata": {},
   "outputs": [
    {
     "name": "stdout",
     "output_type": "stream",
     "text": [
      "[0, 1, 2, 3, 4, 5, 6, 7, 8, 9, 10, 11, 12, 13, 14, 15, 16, 17, 18, 19, 20, 21, 22, 23, 24, 25, 26, 27, 28, 29, 30, 31, 32, 33, 34, 35, 36]\n"
     ]
    }
   ],
   "source": [
    "print([x for x in range(37)])"
   ]
  },
  {
   "cell_type": "code",
   "execution_count": 76,
   "id": "9a5f754a-1c6d-48f7-901f-bf57442a5bb8",
   "metadata": {},
   "outputs": [
    {
     "data": {
      "text/plain": [
       "array([23, 32, 21, 25, 28, 16, 30,  3,  6, 13, 26,  1, 15, 35, 18,  2, 12,\n",
       "       31, 33,  4, 34, 14, 27,  0,  8, 20,  9, 11, 22, 10,  7, 24, 29, 19,\n",
       "       36,  5, 17])"
      ]
     },
     "execution_count": 76,
     "metadata": {},
     "output_type": "execute_result"
    }
   ],
   "source": [
    "np.random.choice([0, 1, 2, 3, 4, 5, 6, 7, 8, 9, 10, 11, 12, 13, \n",
    "                  14, 15, 16, 17, 18, 19, 20, 21, 22, 23, 24, 25, \n",
    "                  26, 27, 28, 29, 30, 31, 32, 33, 34, 35, 36],\n",
    "                 size = 37,\n",
    "                 replace = False\n",
    "                )"
   ]
  },
  {
   "cell_type": "code",
   "execution_count": 51,
   "id": "f1d481c3-cc9c-404b-aa93-e8fa811f080f",
   "metadata": {},
   "outputs": [
    {
     "data": {
      "text/plain": [
       "0.48618"
      ]
     },
     "execution_count": 51,
     "metadata": {},
     "output_type": "execute_result"
    }
   ],
   "source": [
    "# 0 es 0\n",
    "# 1 al 18 es rojo\n",
    "# 19 al 36 es negro\n",
    "exitos = 0\n",
    "for i in range(100000):\n",
    "    ruleta = np.random.randint(0,37, size = 1)\n",
    "    if ruleta >= 1 and ruleta <= 18:\n",
    "        exitos += 1\n",
    "\n",
    "exitos/100000"
   ]
  },
  {
   "cell_type": "code",
   "execution_count": 52,
   "id": "fe678d93-9590-4300-8b68-ba496f416759",
   "metadata": {},
   "outputs": [
    {
     "data": {
      "text/plain": [
       "0.4864864864864865"
      ]
     },
     "execution_count": 52,
     "metadata": {},
     "output_type": "execute_result"
    }
   ],
   "source": [
    "18/37"
   ]
  },
  {
   "cell_type": "markdown",
   "id": "ec61738d-9ceb-4864-a6a4-91fdf88c6dc5",
   "metadata": {},
   "source": [
    "### Ejercicio 4\n",
    "\n",
    "Se quiere calcular cuantas rondas tardo en perder todo mi dinero si apuesto siempre al rojo. Tener en cuenta las siguientes premisas:\n",
    "* Iniciamente tengo 100 euros\n",
    "* En cada ronda apuesto 5 euros\n",
    "    * si gano, duplico, por lo que me dan 5 euros extras\n",
    "    * si pierdo, se descuentan los 5 euros apostados"
   ]
  },
  {
   "cell_type": "code",
   "execution_count": 85,
   "id": "9ad14815-daa5-4d94-b228-370dd4333dba",
   "metadata": {},
   "outputs": [],
   "source": [
    "total_jugadas =[]\n",
    "\n",
    "for i in range(1000):\n",
    "    jugadas = 0\n",
    "    saldo = 100\n",
    "    while saldo > 0:\n",
    "        ruleta = np.random.randint(0,37, size = 1)\n",
    "        if ruleta >= 1 and ruleta <= 18:\n",
    "            saldo += 5\n",
    "        else:\n",
    "            saldo -= 5\n",
    "        jugadas += 1\n",
    "    total_jugadas.append(jugadas)"
   ]
  },
  {
   "cell_type": "code",
   "execution_count": 89,
   "id": "d4a6fea1-2186-4273-a85b-79ab3aadb891",
   "metadata": {},
   "outputs": [
    {
     "data": {
      "text/plain": [
       "715.056"
      ]
     },
     "execution_count": 89,
     "metadata": {},
     "output_type": "execute_result"
    }
   ],
   "source": [
    "np.array(total_jugadas).mean()"
   ]
  },
  {
   "cell_type": "code",
   "execution_count": 5,
   "id": "ef451188-43eb-487b-ba00-c4ee610a2aa2",
   "metadata": {},
   "outputs": [
    {
     "name": "stdout",
     "output_type": "stream",
     "text": [
      "692\n",
      "336\n"
     ]
    }
   ],
   "source": [
    "saldo = 100\n",
    "rondas_jugadas = 0\n",
    "rondas_ganadas = 0\n",
    "\n",
    "while saldo > 0:\n",
    "    rondas_jugadas += 1\n",
    "    numero = random.randint(0,37)\n",
    "    if numero >= 1 and numero <= 18:\n",
    "        saldo += 5\n",
    "        rondas_ganadas += 1\n",
    "    else:\n",
    "        saldo -= 5\n",
    "\n",
    "print(rondas_jugadas)\n",
    "print(rondas_ganadas)"
   ]
  },
  {
   "cell_type": "code",
   "execution_count": null,
   "id": "8587fc23-fcbf-4979-b2af-04b56a2faa54",
   "metadata": {},
   "outputs": [],
   "source": []
  }
 ],
 "metadata": {
  "kernelspec": {
   "display_name": "Python 3 (ipykernel)",
   "language": "python",
   "name": "python3"
  },
  "language_info": {
   "codemirror_mode": {
    "name": "ipython",
    "version": 3
   },
   "file_extension": ".py",
   "mimetype": "text/x-python",
   "name": "python",
   "nbconvert_exporter": "python",
   "pygments_lexer": "ipython3",
   "version": "3.11.7"
  }
 },
 "nbformat": 4,
 "nbformat_minor": 5
}
